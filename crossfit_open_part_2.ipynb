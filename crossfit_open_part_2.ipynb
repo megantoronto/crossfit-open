{
 "cells": [
  {
   "cell_type": "markdown",
   "metadata": {},
   "source": [
    "# CrossFit Open Part 2: Scraping the Data"
   ]
  },
  {
   "cell_type": "markdown",
   "metadata": {},
   "source": [
    "## Introduction"
   ]
  },
  {
   "cell_type": "markdown",
   "metadata": {},
   "source": [
    "The CrossFit Games is a once year worldwide fitness competition that aims to find the fittest man and woman on Earth. Though the process to qualify for the CrossFit Games has changed over the years, the Crossfit Open is generally considered the first step to qualify. The CrossFit Open consists of five workouts over five weeks, with each workout released weekly on Thursday and scores due on Monday. After five weeks, the top competitors move on to secondary stages to qualify, or in some years can directly qualify for the CrossFit Games out of the Open. What makes Open unique is that anybody can sign up to participate. There are different versions of eah workout offered for different age groups and skill levels to allow the competition to allow more people the ability to participate. All workouts are either judged or videoed and scores are entered on a worldwide leaderboard for everyone to see their placing.\n",
    "\n",
    "The Open began in 2011, and I personally have participated each year since 2016. Though I am not an athlete at a CrossFit Games level, I enjoy seeing how my fitness improves from year to year with my Open workout scores as concrete data points that show me what skills I need to improve on to be a more competitive and better athlete. As the sport of CrossFit grows and the overall abilities and fitness levels of athletes rise, I thought it would be an interesting project to pull old Open leaderboard data and create a tool that helps any Crossfit Open participant analyze what they need to work on to improve their scores and their fitness."
   ]
  },
  {
   "cell_type": "markdown",
   "metadata": {},
   "source": [
    "## Part 2: Loading the Data into PostgreSQL"
   ]
  },
  {
   "cell_type": "markdown",
   "metadata": {},
   "source": [
    "In this notebook, I take all of the data that I scraped in <a href='https://github.com/megantoronto/crossfit-open/blob/main/crossfit_open_part_1.ipynb' >Part 1</a> and put it in a PostgreSQL database."
   ]
  },
  {
   "cell_type": "markdown",
   "metadata": {},
   "source": [
    "First, I imported all the necessary libraries."
   ]
  },
  {
   "cell_type": "code",
   "execution_count": 6,
   "metadata": {
    "ExecuteTime": {
     "end_time": "2021-01-01T08:42:29.089233Z",
     "start_time": "2021-01-01T08:42:27.809606Z"
    }
   },
   "outputs": [],
   "source": [
    "import psycopg2\n",
    "import os\n",
    "import csv\n",
    "import pandas as pd\n",
    "import numpy as np"
   ]
  },
  {
   "cell_type": "markdown",
   "metadata": {},
   "source": [
    "I set my local path:"
   ]
  },
  {
   "cell_type": "code",
   "execution_count": 2,
   "metadata": {
    "ExecuteTime": {
     "end_time": "2020-12-28T09:27:36.917893Z",
     "start_time": "2020-12-28T09:27:36.911163Z"
    }
   },
   "outputs": [],
   "source": [
    "path = os.path.abspath(os.getcwd())+'\\\\'"
   ]
  },
  {
   "cell_type": "markdown",
   "metadata": {},
   "source": [
    "I first created a database on my local Postgres server called crossfit using pgAdmin, the GUI for Postgres. I then used the cell below to create a connection to the database:"
   ]
  },
  {
   "cell_type": "code",
   "execution_count": 41,
   "metadata": {
    "ExecuteTime": {
     "end_time": "2021-01-01T09:24:41.875941Z",
     "start_time": "2021-01-01T09:24:41.798434Z"
    }
   },
   "outputs": [],
   "source": [
    "conn = psycopg2.connect(\n",
    "    host=\"localhost\",\n",
    "    database=\"crossfit\",\n",
    "    user=\"postgres\",\n",
    "    password=os.environ.get('DATABASE_PASSWORD'))"
   ]
  },
  {
   "cell_type": "markdown",
   "metadata": {},
   "source": [
    "## 2020 and 2019 Data"
   ]
  },
  {
   "cell_type": "markdown",
   "metadata": {},
   "source": [
    "I read in the data from one of the locally stored csv files for 2020 to in pull and print the column values:"
   ]
  },
  {
   "cell_type": "code",
   "execution_count": 8,
   "metadata": {
    "ExecuteTime": {
     "end_time": "2020-12-28T09:25:20.868098Z",
     "start_time": "2020-12-28T09:25:16.450207Z"
    },
    "scrolled": true
   },
   "outputs": [
    {
     "name": "stdout",
     "output_type": "stream",
     "text": [
      "competitorId\n",
      "competitorName\n",
      "firstName\n",
      "lastName\n",
      "status\n",
      "postCompStatus\n",
      "gender\n",
      "profilePicS3key\n",
      "countryOfOriginCode\n",
      "countryOfOriginName\n",
      "divisionId\n",
      "affiliateId\n",
      "affiliateName\n",
      "age\n",
      "height\n",
      "weight\n",
      "highlight\n",
      "countryChampion\n",
      "ordinal_1\n",
      "rank_1\n",
      "score_1\n",
      "scoreDisplay_1\n",
      "mobileScoreDisplay_1\n",
      "scoreIdentifier_1\n",
      "scaled_1\n",
      "video_1\n",
      "breakdown_1\n",
      "time_1\n",
      "judge_1\n",
      "affiliate_1\n",
      "heat_1\n",
      "lane_1\n",
      "ordinal_2\n",
      "rank_2\n",
      "score_2\n",
      "scoreDisplay_2\n",
      "mobileScoreDisplay_2\n",
      "scoreIdentifier_2\n",
      "scaled_2\n",
      "video_2\n",
      "breakdown_2\n",
      "time_2\n",
      "judge_2\n",
      "affiliate_2\n",
      "heat_2\n",
      "lane_2\n",
      "ordinal_3\n",
      "rank_3\n",
      "score_3\n",
      "scoreDisplay_3\n",
      "mobileScoreDisplay_3\n",
      "scoreIdentifier_3\n",
      "scaled_3\n",
      "video_3\n",
      "breakdown_3\n",
      "time_3\n",
      "judge_3\n",
      "affiliate_3\n",
      "heat_3\n",
      "lane_3\n",
      "ordinal_4\n",
      "rank_4\n",
      "score_4\n",
      "scoreDisplay_4\n",
      "mobileScoreDisplay_4\n",
      "scoreIdentifier_4\n",
      "scaled_4\n",
      "video_4\n",
      "breakdown_4\n",
      "time_4\n",
      "judge_4\n",
      "affiliate_4\n",
      "heat_4\n",
      "lane_4\n",
      "ordinal_5\n",
      "rank_5\n",
      "score_5\n",
      "scoreDisplay_5\n",
      "mobileScoreDisplay_5\n",
      "scoreIdentifier_5\n",
      "scaled_5\n",
      "video_5\n",
      "breakdown_5\n",
      "time_5\n",
      "judge_5\n",
      "affiliate_5\n",
      "heat_5\n",
      "lane_5\n",
      "overallRank\n",
      "overallScore\n"
     ]
    }
   ],
   "source": [
    "df = pd.read_csv(path+'final_data\\\\open_2020_women.csv',low_memory=False)\n",
    "for i in df.columns:\n",
    "    print(i)"
   ]
  },
  {
   "cell_type": "markdown",
   "metadata": {},
   "source": [
    "To create a SQL table, you have to assign a datatype to each column. To help save a bit of typing when assigning data these datatypes, I used the cell below:"
   ]
  },
  {
   "cell_type": "code",
   "execution_count": 15,
   "metadata": {
    "ExecuteTime": {
     "end_time": "2020-09-17T03:13:16.946379Z",
     "start_time": "2020-09-17T03:13:16.933412Z"
    },
    "scrolled": true
   },
   "outputs": [
    {
     "name": "stdout",
     "output_type": "stream",
     "text": [
      "ordinal_2 INT,\n",
      "rank_2 INT,\n",
      "score_2 INT,\n",
      "scoreDisplay_2 TEXT,\n",
      "mobileScoreDisplay_2 TEXT,\n",
      "scoreIdentifier_2 TEXT,\n",
      "scaled_2 BOOLEAN,\n",
      "video_2 BOOLEAN,\n",
      "breakdown_2 TEXT,\n",
      "time_2 REAL,\n",
      "judge_2 TEXT,\n",
      "affiliate_2 TEXT,\n",
      "heat_2 INT,\n",
      "lane_2 INT,\n",
      "ordinal_3 INT,\n",
      "rank_3 INT,\n",
      "score_3 INT,\n",
      "scoreDisplay_3 TEXT,\n",
      "mobileScoreDisplay_3 TEXT,\n",
      "scoreIdentifier_3 TEXT,\n",
      "scaled_3 BOOLEAN,\n",
      "video_3 BOOLEAN,\n",
      "breakdown_3 TEXT,\n",
      "time_3 REAL,\n",
      "judge_3 TEXT,\n",
      "affiliate_3 TEXT,\n",
      "heat_3 INT,\n",
      "lane_3 INT,\n",
      "ordinal_4 INT,\n",
      "rank_4 INT,\n",
      "score_4 INT,\n",
      "scoreDisplay_4 TEXT,\n",
      "mobileScoreDisplay_4 TEXT,\n",
      "scoreIdentifier_4 TEXT,\n",
      "scaled_4 BOOLEAN,\n",
      "video_4 BOOLEAN,\n",
      "breakdown_4 TEXT,\n",
      "time_4 REAL,\n",
      "judge_4 TEXT,\n",
      "affiliate_4 TEXT,\n",
      "heat_4 INT,\n",
      "lane_4 INT,\n",
      "ordinal_5 INT,\n",
      "rank_5 INT,\n",
      "score_5 INT,\n",
      "scoreDisplay_5 TEXT,\n",
      "mobileScoreDisplay_5 TEXT,\n",
      "scoreIdentifier_5 TEXT,\n",
      "scaled_5 BOOLEAN,\n",
      "video_5 BOOLEAN,\n",
      "breakdown_5 TEXT,\n",
      "time_5 REAL,\n",
      "judge_5 TEXT,\n",
      "affiliate_5 TEXT,\n",
      "heat_5 INT,\n",
      "lane_5 INT,\n"
     ]
    }
   ],
   "source": [
    "types=['INT','INT','INT','TEXT','TEXT','TEXT','BOOLEAN','BOOLEAN','TEXT','REAL','TEXT','TEXT','INT','INT']*4\n",
    "h=['ordinal_2', 'rank_2', 'score_2', 'scoreDisplay_2',\n",
    "       'mobileScoreDisplay_2', 'scoreIdentifier_2', 'scaled_2', 'video_2',\n",
    "       'breakdown_2', 'time_2', 'judge_2', 'affiliate_2', 'heat_2', 'lane_2',\n",
    "       'ordinal_3', 'rank_3', 'score_3', 'scoreDisplay_3',\n",
    "       'mobileScoreDisplay_3', 'scoreIdentifier_3', 'scaled_3', 'video_3',\n",
    "       'breakdown_3', 'time_3', 'judge_3', 'affiliate_3', 'heat_3', 'lane_3',\n",
    "       'ordinal_4', 'rank_4', 'score_4', 'scoreDisplay_4',\n",
    "       'mobileScoreDisplay_4', 'scoreIdentifier_4', 'scaled_4', 'video_4',\n",
    "       'breakdown_4', 'time_4', 'judge_4', 'affiliate_4', 'heat_4', 'lane_4',\n",
    "       'ordinal_5', 'rank_5', 'score_5', 'scoreDisplay_5',\n",
    "       'mobileScoreDisplay_5', 'scoreIdentifier_5', 'scaled_5', 'video_5',\n",
    "       'breakdown_5', 'time_5', 'judge_5', 'affiliate_5', 'heat_5', 'lane_5']\n",
    "for i in range(0,len(h)):\n",
    "    print(h[i]+\" \"+types[i]+\",\")"
   ]
  },
  {
   "cell_type": "markdown",
   "metadata": {},
   "source": [
    "Now I can copy and paste the column names I printed and what I printed above to make a function that creates a table for 2019 and 2020 data:"
   ]
  },
  {
   "cell_type": "code",
   "execution_count": 3,
   "metadata": {
    "ExecuteTime": {
     "end_time": "2020-12-11T03:42:03.800740Z",
     "start_time": "2020-12-11T03:42:03.788019Z"
    }
   },
   "outputs": [],
   "source": [
    "def create_table(table_name,conn):\n",
    "    query = '''\n",
    "\n",
    "    CREATE TABLE ''' + table_name+'''(\n",
    "    competitorId INT,\n",
    "    competitorName TEXT,\n",
    "    firstName TEXT,\n",
    "    lastName TEXT,\n",
    "    status TEXT,\n",
    "    postCompStatus TEXT,\n",
    "    gender TEXT,\n",
    "    profilePicS3key TEXT,\n",
    "    countryOfOriginCode TEXT,\n",
    "    countryOfOriginName TEXT,\n",
    "    divisionId INT,\n",
    "    affiliateId INT,\n",
    "    affiliateName TEXT,\n",
    "    age INT,\n",
    "    height TEXT,\n",
    "    weight TEXT,\n",
    "    highlight BOOLEAN,\n",
    "    countryChampion BOOLEAN,\n",
    "    ordinal_1 INT,\n",
    "    rank_1 INT,\n",
    "    score_1 INT,\n",
    "    scoreDisplay_1 TEXT,\n",
    "    mobileScoreDisplay_1 TEXT,\n",
    "    scoreIdentifier_1 TEXT,\n",
    "    scaled_1 BOOLEAN,\n",
    "    video_1 BOOLEAN,\n",
    "    breakdown_1 TEXT,\n",
    "    time_1 REAL,\n",
    "    judge_1 TEXT,\n",
    "    affiliate_1 TEXT,\n",
    "    heat_1 TEXT,\n",
    "    lane_1 TEXT,\n",
    "    ordinal_2 INT,\n",
    "    rank_2 INT,\n",
    "    score_2 INT,\n",
    "    scoreDisplay_2 TEXT,\n",
    "    mobileScoreDisplay_2 TEXT,\n",
    "    scoreIdentifier_2 TEXT,\n",
    "    scaled_2 BOOLEAN,\n",
    "    video_2 BOOLEAN,\n",
    "    breakdown_2 TEXT,\n",
    "    time_2 REAL,\n",
    "    judge_2 TEXT,\n",
    "    affiliate_2 TEXT,\n",
    "    heat_2 TEXT,\n",
    "    lane_2 TEXT,\n",
    "    ordinal_3 INT,\n",
    "    rank_3 INT,\n",
    "    score_3 INT,\n",
    "    scoreDisplay_3 TEXT,\n",
    "    mobileScoreDisplay_3 TEXT,\n",
    "    scoreIdentifier_3 TEXT,\n",
    "    scaled_3 BOOLEAN,\n",
    "    video_3 BOOLEAN,\n",
    "    breakdown_3 TEXT,\n",
    "    time_3 REAL,\n",
    "    judge_3 TEXT,\n",
    "    affiliate_3 TEXT,\n",
    "    heat_3 TEXT,\n",
    "    lane_3 TEXT,\n",
    "    ordinal_4 INT,\n",
    "    rank_4 INT,\n",
    "    score_4 INT,\n",
    "    scoreDisplay_4 TEXT,\n",
    "    mobileScoreDisplay_4 TEXT,\n",
    "    scoreIdentifier_4 TEXT,\n",
    "    scaled_4 BOOLEAN,\n",
    "    video_4 BOOLEAN,\n",
    "    breakdown_4 TEXT,\n",
    "    time_4 REAL,\n",
    "    judge_4 TEXT,\n",
    "    affiliate_4 TEXT,\n",
    "    heat_4 TEXT,\n",
    "    lane_4 TEXT,\n",
    "    ordinal_5 INT,\n",
    "    rank_5 INT,\n",
    "    score_5 INT,\n",
    "    scoreDisplay_5 TEXT,\n",
    "    mobileScoreDisplay_5 TEXT,\n",
    "    scoreIdentifier_5 TEXT,\n",
    "    scaled_5 BOOLEAN,\n",
    "    video_5 BOOLEAN,\n",
    "    breakdown_5 TEXT,\n",
    "    time_5 REAL,\n",
    "    judge_5 TEXT,\n",
    "    affiliate_5 TEXT,\n",
    "    heat_5 TEXT,\n",
    "    lane_5 TEXT,\n",
    "    overallRank INT,\n",
    "    overallScore INT\n",
    "    );\n",
    "\n",
    "    '''\n",
    "    cur = conn.cursor()\n",
    "    cur.execute(query)\n",
    "    conn.commit()\n",
    "    return \"Table \"+table_name+\" has been created\""
   ]
  },
  {
   "cell_type": "markdown",
   "metadata": {},
   "source": [
    "Now I need a function that will actually read in a csv and load the data into PostgreSQL to the table I create. I had to create a custom SQL COPY statement to handle all of the commas and new-line characters that are in the data:"
   ]
  },
  {
   "cell_type": "code",
   "execution_count": 23,
   "metadata": {
    "ExecuteTime": {
     "end_time": "2021-01-01T09:14:22.402695Z",
     "start_time": "2021-01-01T09:14:22.390717Z"
    }
   },
   "outputs": [],
   "source": [
    "def populate_table(table_name,csv_path,conn):\n",
    "    f = open(csv_path, 'r',encoding='utf-8-sig')\n",
    "    copy = '''\n",
    "    COPY ''' + table_name + ''' FROM STDIN DELIMITER ',' CSV HEADER QUOTE '\\\"' ESCAPE '\"';\n",
    "    '''\n",
    "    cur = conn.cursor()\n",
    "    cur.copy_expert(copy,f)\n",
    "    conn.commit()\n",
    "    return \"Table \" + table_name + \" has been populated\""
   ]
  },
  {
   "cell_type": "markdown",
   "metadata": {},
   "source": [
    "Below I create and populate tables for the 2020 and 2019 men and women data:"
   ]
  },
  {
   "cell_type": "code",
   "execution_count": 12,
   "metadata": {
    "ExecuteTime": {
     "end_time": "2020-12-28T09:47:45.569092Z",
     "start_time": "2020-12-28T09:47:45.560442Z"
    }
   },
   "outputs": [
    {
     "name": "stdout",
     "output_type": "stream",
     "text": [
      "'Table open_women_2020 has been created'\n"
     ]
    }
   ],
   "source": [
    "create_table(\"open_women_2020\",conn)"
   ]
  },
  {
   "cell_type": "code",
   "execution_count": 2,
   "metadata": {
    "ExecuteTime": {
     "end_time": "2020-12-31T08:50:30.844454Z",
     "start_time": "2020-12-31T08:50:30.828474Z"
    }
   },
   "outputs": [
    {
     "name": "stdout",
     "output_type": "stream",
     "text": [
      "'Table open_women_2020 has been populated'\n"
     ]
    }
   ],
   "source": [
    "populate_table(\"open_women_2020\",path+'open_2020_women.csv',conn)"
   ]
  },
  {
   "cell_type": "code",
   "execution_count": 23,
   "metadata": {
    "ExecuteTime": {
     "end_time": "2020-09-17T07:16:13.152624Z",
     "start_time": "2020-09-17T07:16:13.124699Z"
    }
   },
   "outputs": [
    {
     "data": {
      "text/plain": [
       "'Table open_men_2020 has been created'"
      ]
     },
     "execution_count": 23,
     "metadata": {},
     "output_type": "execute_result"
    }
   ],
   "source": [
    "create_table(\"open_men_2020\",conn)"
   ]
  },
  {
   "cell_type": "code",
   "execution_count": 6,
   "metadata": {
    "ExecuteTime": {
     "end_time": "2020-12-28T09:34:49.733283Z",
     "start_time": "2020-12-28T09:34:49.724882Z"
    }
   },
   "outputs": [
    {
     "name": "stdout",
     "output_type": "stream",
     "text": [
      "'Table open_men_2020 has been populated'\n"
     ]
    }
   ],
   "source": [
    "populate_table(\"open_men_2020\",path+'open_2020_men.csv',conn)"
   ]
  },
  {
   "cell_type": "code",
   "execution_count": 50,
   "metadata": {
    "ExecuteTime": {
     "end_time": "2020-09-17T08:23:58.974763Z",
     "start_time": "2020-09-17T08:23:58.957808Z"
    }
   },
   "outputs": [
    {
     "data": {
      "text/plain": [
       "'Table open_women_2019 has been created'"
      ]
     },
     "execution_count": 50,
     "metadata": {},
     "output_type": "execute_result"
    }
   ],
   "source": [
    "create_table(\"open_women_2019\",conn)"
   ]
  },
  {
   "cell_type": "code",
   "execution_count": 8,
   "metadata": {
    "ExecuteTime": {
     "end_time": "2020-12-28T09:46:04.125003Z",
     "start_time": "2020-12-28T09:46:04.117781Z"
    }
   },
   "outputs": [
    {
     "name": "stdout",
     "output_type": "stream",
     "text": [
      "'Table open_women_2019 has been populated'\n"
     ]
    }
   ],
   "source": [
    "populate_table(\"open_women_2019\",path+'open_2019_women.csv',conn)"
   ]
  },
  {
   "cell_type": "code",
   "execution_count": 5,
   "metadata": {
    "ExecuteTime": {
     "end_time": "2020-12-11T03:43:12.224494Z",
     "start_time": "2020-12-11T03:43:12.142049Z"
    }
   },
   "outputs": [
    {
     "data": {
      "text/plain": [
       "'Table open_2019_men has been created'"
      ]
     },
     "execution_count": 5,
     "metadata": {},
     "output_type": "execute_result"
    }
   ],
   "source": [
    "create_table(\"open_2019_men\",conn)"
   ]
  },
  {
   "cell_type": "code",
   "execution_count": 9,
   "metadata": {
    "ExecuteTime": {
     "end_time": "2020-12-28T09:46:43.647892Z",
     "start_time": "2020-12-28T09:46:43.636499Z"
    }
   },
   "outputs": [
    {
     "name": "stdout",
     "output_type": "stream",
     "text": [
      "'Table open_men_2019 has been populated'\n"
     ]
    }
   ],
   "source": [
    "populate_table(\"open_men_2019\",path+'open_2019_men.csv',conn)"
   ]
  },
  {
   "cell_type": "markdown",
   "metadata": {},
   "source": [
    "## 2018 Data"
   ]
  },
  {
   "cell_type": "markdown",
   "metadata": {},
   "source": [
    "The 2018 CrossFit data has more columns than the 2019 and 2020 data, so the create_table function needs to be updated:"
   ]
  },
  {
   "cell_type": "code",
   "execution_count": 15,
   "metadata": {
    "ExecuteTime": {
     "end_time": "2020-12-28T09:50:35.248208Z",
     "start_time": "2020-12-28T09:50:23.840994Z"
    }
   },
   "outputs": [
    {
     "name": "stdout",
     "output_type": "stream",
     "text": [
      "competitorId\n",
      "competitorName\n",
      "firstName\n",
      "lastName\n",
      "status\n",
      "postCompStatus\n",
      "gender\n",
      "profilePicS3key\n",
      "countryShortCode\n",
      "regionalCode\n",
      "regionId\n",
      "regionName\n",
      "divisionId\n",
      "profession\n",
      "affiliateId\n",
      "affiliateName\n",
      "age\n",
      "height\n",
      "weight\n",
      "teamCaptain\n",
      "highlight\n",
      "ordinal_1\n",
      "rank_1\n",
      "score_1\n",
      "scoreDisplay_1\n",
      "mobileScoreDisplay_1\n",
      "scoreIdentifier_1\n",
      "scaled_1\n",
      "video_1\n",
      "time_1\n",
      "breakdown_1\n",
      "judge_1\n",
      "affiliate_1\n",
      "heat_1\n",
      "lane_1\n",
      "ordinal_2\n",
      "rank_2\n",
      "score_2\n",
      "scoreDisplay_2\n",
      "mobileScoreDisplay_2\n",
      "scoreIdentifier_2\n",
      "scaled_2\n",
      "video_2\n",
      "time_2\n",
      "breakdown_2\n",
      "judge_2\n",
      "affiliate_2\n",
      "heat_2\n",
      "lane_2\n",
      "ordinal_3\n",
      "rank_3\n",
      "score_3\n",
      "scoreDisplay_3\n",
      "mobileScoreDisplay_3\n",
      "scoreIdentifier_3\n",
      "scaled_3\n",
      "video_3\n",
      "time_3\n",
      "breakdown_3\n",
      "judge_3\n",
      "affiliate_3\n",
      "heat_3\n",
      "lane_3\n",
      "ordinal_4\n",
      "rank_4\n",
      "score_4\n",
      "scoreDisplay_4\n",
      "mobileScoreDisplay_4\n",
      "scoreIdentifier_4\n",
      "scaled_4\n",
      "video_4\n",
      "time_4\n",
      "breakdown_4\n",
      "judge_4\n",
      "affiliate_4\n",
      "heat_4\n",
      "lane_4\n",
      "ordinal_5\n",
      "rank_5\n",
      "score_5\n",
      "scoreDisplay_5\n",
      "mobileScoreDisplay_5\n",
      "scoreIdentifier_5\n",
      "scaled_5\n",
      "video_5\n",
      "time_5\n",
      "breakdown_5\n",
      "judge_5\n",
      "affiliate_5\n",
      "heat_5\n",
      "lane_5\n",
      "ordinal_6\n",
      "rank_6\n",
      "score_6\n",
      "scoreDisplay_6\n",
      "mobileScoreDisplay_6\n",
      "scoreIdentifier_6\n",
      "scaled_6\n",
      "video_6\n",
      "time_6\n",
      "breakdown_6\n",
      "judge_6\n",
      "affiliate_6\n",
      "heat_6\n",
      "lane_6\n",
      "overallRank\n",
      "overallScore\n"
     ]
    }
   ],
   "source": [
    "df_men_2018=pd.read_csv(path+'open_2018_men.csv',low_memory=False)\n",
    "for i in df_men_2018.columns:\n",
    "    print(i)"
   ]
  },
  {
   "cell_type": "markdown",
   "metadata": {
    "ExecuteTime": {
     "end_time": "2020-12-28T09:50:56.386159Z",
     "start_time": "2020-12-28T09:50:56.379166Z"
    }
   },
   "source": [
    "Additionally, some of the column datatypes needed to be reconverted to integers:"
   ]
  },
  {
   "cell_type": "code",
   "execution_count": null,
   "metadata": {},
   "outputs": [],
   "source": [
    "cols=['divisionId','affiliateId','age','ordinal_1','rank_1','score_1','scaled_1','video_1',\n",
    "         'ordinal_2','rank_2','score_2','scaled_2','video_2','ordinal_3','rank_3','score_3','scaled_3','video_3',\n",
    "         'ordinal_4','rank_4','score_4','scaled_4','video_4','ordinal_5','rank_5','score_5','scaled_5','video_5',\n",
    "         'ordinal_6','rank_6','score_6','scaled_6','video_6','overallRank','overallScore']"
   ]
  },
  {
   "cell_type": "code",
   "execution_count": null,
   "metadata": {},
   "outputs": [],
   "source": [
    "def convert_to_int(df,cols):\n",
    "    for i in cols:\n",
    "        df[i]=df[i].astype('int')\n",
    "    return df"
   ]
  },
  {
   "cell_type": "code",
   "execution_count": null,
   "metadata": {},
   "outputs": [],
   "source": [
    "df_men_2018=convert_to_int(df_men_2018,cols)\n",
    "df_men_2018.to_csv(path+'open_2018_men.csv',encoding='utf-8-sig',index=False)"
   ]
  },
  {
   "cell_type": "code",
   "execution_count": null,
   "metadata": {
    "ExecuteTime": {
     "end_time": "2020-12-11T09:08:55.691457Z",
     "start_time": "2020-12-11T09:08:52.955426Z"
    }
   },
   "outputs": [],
   "source": [
    "df_women_2018=pd.read_csv(path+'open_2018_women.csv')\n",
    "df_women_2018=convert_to_int(df_women_2018)\n",
    "df_women_2018.to_csv(path+'open_2018_women.csv',index=False)"
   ]
  },
  {
   "cell_type": "markdown",
   "metadata": {},
   "source": [
    "Below I created a new function to create the tables for the 2018 data:"
   ]
  },
  {
   "cell_type": "code",
   "execution_count": 113,
   "metadata": {
    "ExecuteTime": {
     "end_time": "2020-12-11T08:29:51.963075Z",
     "start_time": "2020-12-11T08:29:51.956072Z"
    }
   },
   "outputs": [],
   "source": [
    "def create_table_2018(table_name,conn):\n",
    "    query = '''\n",
    "\n",
    "    CREATE TABLE ''' + table_name+'''(\n",
    "    competitorId INT,\n",
    "    competitorName TEXT,\n",
    "    firstName TEXT,\n",
    "    lastName TEXT,\n",
    "    status TEXT,\n",
    "    postCompStatus TEXT,\n",
    "    gender TEXT,\n",
    "    profilePicS3key TEXT,\n",
    "    countryShortCode TEXT,\n",
    "    regionalCode TEXT,\n",
    "    regionId TEXT,\n",
    "    regionName TEXT,\n",
    "    divisionId INT,\n",
    "    profession TEXT,\n",
    "    affiliateId INT,\n",
    "    affiliateName TEXT,\n",
    "    age INT,\n",
    "    height TEXT,\n",
    "    weight TEXT,\n",
    "    teamCaptain TEXT,\n",
    "    highlight BOOLEAN,\n",
    "    ordinal_1 INT,\n",
    "    rank_1 INT,\n",
    "    score_1 INT,\n",
    "    scoreDisplay_1 TEXT,\n",
    "    mobileScoreDisplay_1 TEXT,\n",
    "    scoreIdentifier_1 TEXT,\n",
    "    scaled_1 BOOLEAN,\n",
    "    video_1 BOOLEAN,\n",
    "    breakdown_1 TEXT,\n",
    "    time_1 REAL,\n",
    "    judge_1 TEXT,\n",
    "    affiliate_1 TEXT,\n",
    "    heat_1 TEXT,\n",
    "    lane_1 TEXT,\n",
    "    ordinal_2 INT,\n",
    "    rank_2 INT,\n",
    "    score_2 INT,\n",
    "    scoreDisplay_2 TEXT,\n",
    "    mobileScoreDisplay_2 TEXT,\n",
    "    scoreIdentifier_2 TEXT,\n",
    "    scaled_2 BOOLEAN,\n",
    "    video_2 BOOLEAN,\n",
    "    breakdown_2 TEXT,\n",
    "    time_2 REAL,\n",
    "    judge_2 TEXT,\n",
    "    affiliate_2 TEXT,\n",
    "    heat_2 TEXT,\n",
    "    lane_2 TEXT,\n",
    "    ordinal_3 INT,\n",
    "    rank_3 INT,\n",
    "    score_3 INT,\n",
    "    scoreDisplay_3 TEXT,\n",
    "    mobileScoreDisplay_3 TEXT,\n",
    "    scoreIdentifier_3 TEXT,\n",
    "    scaled_3 BOOLEAN,\n",
    "    video_3 BOOLEAN,\n",
    "    breakdown_3 TEXT,\n",
    "    time_3 REAL,\n",
    "    judge_3 TEXT,\n",
    "    affiliate_3 TEXT,\n",
    "    heat_3 TEXT,\n",
    "    lane_3 TEXT,\n",
    "    ordinal_4 INT,\n",
    "    rank_4 INT,\n",
    "    score_4 INT,\n",
    "    scoreDisplay_4 TEXT,\n",
    "    mobileScoreDisplay_4 TEXT,\n",
    "    scoreIdentifier_4 TEXT,\n",
    "    scaled_4 BOOLEAN,\n",
    "    video_4 BOOLEAN,\n",
    "    breakdown_4 TEXT,\n",
    "    time_4 REAL,\n",
    "    judge_4 TEXT,\n",
    "    affiliate_4 TEXT,\n",
    "    heat_4 TEXT,\n",
    "    lane_4 TEXT,\n",
    "    ordinal_5 INT,\n",
    "    rank_5 INT,\n",
    "    score_5 INT,\n",
    "    scoreDisplay_5 TEXT,\n",
    "    mobileScoreDisplay_5 TEXT,\n",
    "    scoreIdentifier_5 TEXT,\n",
    "    scaled_5 BOOLEAN,\n",
    "    video_5 BOOLEAN,\n",
    "    breakdown_5 TEXT,\n",
    "    time_5 REAL,\n",
    "    judge_5 TEXT,\n",
    "    affiliate_5 TEXT,\n",
    "    heat_5 TEXT,\n",
    "    lane_5 TEXT,\n",
    "    ordinal_6 INT,\n",
    "    rank_6 INT,\n",
    "    score_6 INT,\n",
    "    scoreDisplay_6 TEXT,\n",
    "    mobileScoreDisplay_6 TEXT,\n",
    "    scoreIdentifier_6 TEXT,\n",
    "    scaled_6 BOOLEAN,\n",
    "    video_6 BOOLEAN,\n",
    "    breakdown_6 TEXT,\n",
    "    time_6 REAL,\n",
    "    judge_6 TEXT,\n",
    "    affiliate_6 TEXT,\n",
    "    heat_6 TEXT,\n",
    "    lane_6 TEXT,\n",
    "    overallRank INT,\n",
    "    overallScore INT\n",
    "    );\n",
    "\n",
    "    '''\n",
    "    cur = conn.cursor()\n",
    "    cur.execute(query)\n",
    "    conn.commit()\n",
    "    return \"Table \"+table_name+\" has been created\""
   ]
  },
  {
   "cell_type": "code",
   "execution_count": 114,
   "metadata": {
    "ExecuteTime": {
     "end_time": "2020-12-11T08:30:15.024625Z",
     "start_time": "2020-12-11T08:30:15.007625Z"
    }
   },
   "outputs": [
    {
     "data": {
      "text/plain": [
       "'Table open_2018_men has been created'"
      ]
     },
     "execution_count": 114,
     "metadata": {},
     "output_type": "execute_result"
    }
   ],
   "source": [
    "create_table_2018(\"open_2018_men\",conn)"
   ]
  },
  {
   "cell_type": "code",
   "execution_count": 4,
   "metadata": {
    "ExecuteTime": {
     "end_time": "2020-12-31T08:58:58.063301Z",
     "start_time": "2020-12-31T08:58:58.055096Z"
    }
   },
   "outputs": [
    {
     "name": "stdout",
     "output_type": "stream",
     "text": [
      "'Table open_2018_men has been populated'\n"
     ]
    }
   ],
   "source": [
    "populate_table('open_2018_men',path+'open_2018_men.csv',conn)"
   ]
  },
  {
   "cell_type": "code",
   "execution_count": 124,
   "metadata": {
    "ExecuteTime": {
     "end_time": "2020-12-11T09:12:15.964937Z",
     "start_time": "2020-12-11T09:12:15.948982Z"
    }
   },
   "outputs": [
    {
     "data": {
      "text/plain": [
       "'Table open_2018_women has been created'"
      ]
     },
     "execution_count": 124,
     "metadata": {},
     "output_type": "execute_result"
    }
   ],
   "source": [
    "create_table_2018(\"open_2018_women\",conn)"
   ]
  },
  {
   "cell_type": "code",
   "execution_count": 3,
   "metadata": {
    "ExecuteTime": {
     "end_time": "2020-12-31T08:58:38.144691Z",
     "start_time": "2020-12-31T08:58:38.131511Z"
    }
   },
   "outputs": [
    {
     "name": "stdout",
     "output_type": "stream",
     "text": [
      "'Table open_2018_women has been populated'\n"
     ]
    }
   ],
   "source": [
    "populate_table('open_2018_women',path+'open_2018_women.csv',conn)"
   ]
  },
  {
   "cell_type": "markdown",
   "metadata": {},
   "source": [
    "## 2017 Data"
   ]
  },
  {
   "cell_type": "markdown",
   "metadata": {},
   "source": [
    "I read in the 2017 data to see the columns that are in the 2017 data:"
   ]
  },
  {
   "cell_type": "code",
   "execution_count": 10,
   "metadata": {
    "ExecuteTime": {
     "end_time": "2021-01-01T08:44:33.723800Z",
     "start_time": "2021-01-01T08:44:24.711047Z"
    }
   },
   "outputs": [
    {
     "name": "stdout",
     "output_type": "stream",
     "text": [
      "competitorid\n",
      "competitorname\n",
      "regionid\n",
      "affiliateid\n",
      "divisionid\n",
      "highlight\n",
      "age\n",
      "region\n",
      "height\n",
      "weight\n",
      "profilepic\n",
      "overallrank\n",
      "overallscore\n",
      "affiliate\n",
      "division\n",
      "workoutrank_1\n",
      "workoutresult_1\n",
      "scoreidentifier_1\n",
      "scoredisplay_1\n",
      "time_1\n",
      "breakdown_1\n",
      "judge_1\n",
      "affiliate_1\n",
      "video_1\n",
      "workoutrank_2\n",
      "workoutresult_2\n",
      "scoreidentifier_2\n",
      "scoredisplay_2\n",
      "time_2\n",
      "breakdown_2\n",
      "judge_2\n",
      "affiliate_2\n",
      "video_2\n",
      "workoutrank_3\n",
      "workoutresult_3\n",
      "scoreidentifier_3\n",
      "scoredisplay_3\n",
      "time_3\n",
      "breakdown_3\n",
      "judge_3\n",
      "affiliate_3\n",
      "video_3\n",
      "workoutrank_4\n",
      "workoutresult_4\n",
      "scoreidentifier_4\n",
      "scoredisplay_4\n",
      "time_4\n",
      "breakdown_4\n",
      "judge_4\n",
      "affiliate_4\n",
      "video_4\n",
      "workoutrank_5\n",
      "workoutresult_5\n",
      "scoreidentifier_5\n",
      "scoredisplay_5\n",
      "time_5\n",
      "breakdown_5\n",
      "judge_5\n",
      "affiliate_5\n",
      "video_5\n",
      "nextstage\n",
      "scaled_1\n",
      "scaled_2\n",
      "scaled_3\n",
      "scaled_4\n",
      "scaled_5\n"
     ]
    }
   ],
   "source": [
    "df_men_2017=pd.read_csv(path+'open_2017_men.csv',low_memory=False)\n",
    "for i in df_men_2017.columns:\n",
    "    print(i)"
   ]
  },
  {
   "cell_type": "markdown",
   "metadata": {},
   "source": [
    "The 2017 data had different columns, so I created a new function to create a table for the 2017 data:"
   ]
  },
  {
   "cell_type": "code",
   "execution_count": 40,
   "metadata": {
    "ExecuteTime": {
     "end_time": "2021-01-01T09:24:35.471333Z",
     "start_time": "2021-01-01T09:24:35.460317Z"
    }
   },
   "outputs": [],
   "source": [
    "def create_table_2017(table_name,conn):\n",
    "    query= '''\n",
    "    CREATE TABLE ''' + table_name+'''(\n",
    "    \n",
    "    competitorid INT,\n",
    "    competitorname TEXT,\n",
    "    regionid INT,\n",
    "    affiliateid INT,\n",
    "    divisionid INT,\n",
    "    highlight BOOLEAN,\n",
    "    age INT,\n",
    "    region TEXT,\n",
    "    height TEXT,\n",
    "    weight TEXT,\n",
    "    profilepic TEXT,\n",
    "    overallrank INT,\n",
    "    overallscore INT,\n",
    "    affiliate TEXT,\n",
    "    division TEXT,\n",
    "    workoutrank_1 INT,\n",
    "    workoutresult_1 TEXT,\n",
    "    scoreidentifier_1 TEXT,\n",
    "    scoredisplay_1 TEXT,\n",
    "    time_1 TEXT,\n",
    "    breakdown_1 TEXT,\n",
    "    judge_1 TEXT,\n",
    "    affiliate_1 TEXT,\n",
    "    video_1 TEXT,\n",
    "    workoutrank_2 INT,\n",
    "    workoutresult_2 TEXT,\n",
    "    scoreidentifier_2 TEXT,\n",
    "    scoredisplay_2 TEXT,\n",
    "    time_2 TEXT,\n",
    "    breakdown_2 TEXT,\n",
    "    judge_2 TEXT,\n",
    "    affiliate_2 TEXT,\n",
    "    video_2 TEXT,\n",
    "    workoutrank_3 INT,\n",
    "    workoutresult_3 TEXT,\n",
    "    scoreidentifier_3 TEXT,\n",
    "    scoredisplay_3 TEXT,\n",
    "    time_3 TEXT,\n",
    "    breakdown_3 TEXT,\n",
    "    judge_3 TEXT,\n",
    "    affiliate_3 TEXT,\n",
    "    video_3 TEXT,\n",
    "    workoutrank_4 INT,\n",
    "    workoutresult_4 TEXT,\n",
    "    scoreidentifier_4 TEXT,\n",
    "    scoredisplay_4 TEXT,\n",
    "    time_4 TEXT,\n",
    "    breakdown_4 TEXT,\n",
    "    judge_4 TEXT,\n",
    "    affiliate_4 TEXT,\n",
    "    video_4 TEXT,\n",
    "    workoutrank_5 INT,\n",
    "    workoutresult_5 TEXT,\n",
    "    scoreidentifier_5 TEXT,\n",
    "    scoredisplay_5 TEXT,\n",
    "    time_5 TEXT,\n",
    "    breakdown_5 TEXT,\n",
    "    judge_5 TEXT,\n",
    "    affiliate_5 TEXT,\n",
    "    video_5 TEXT,\n",
    "    nextstage TEXT,\n",
    "    scaled_1 BOOLEAN,\n",
    "    scaled_2 BOOLEAN,\n",
    "    scaled_3 BOOLEAN,\n",
    "    scaled_4 BOOLEAN,\n",
    "    scaled_5 BOOLEAN\n",
    "    \n",
    "    );\n",
    "   \n",
    "    '''\n",
    "    \n",
    "    cur = conn.cursor()\n",
    "    cur.execute(query)\n",
    "    conn.commit()\n",
    "    return \"Table \"+table_name+\" has been created\"\n",
    "    "
   ]
  },
  {
   "cell_type": "code",
   "execution_count": 22,
   "metadata": {
    "ExecuteTime": {
     "end_time": "2021-01-01T09:13:30.526294Z",
     "start_time": "2021-01-01T09:13:30.432087Z"
    }
   },
   "outputs": [
    {
     "data": {
      "text/plain": [
       "'Table open_2017_men has been created'"
      ]
     },
     "execution_count": 22,
     "metadata": {},
     "output_type": "execute_result"
    }
   ],
   "source": [
    "create_table_2017(\"open_2017_men\",conn)"
   ]
  },
  {
   "cell_type": "code",
   "execution_count": 35,
   "metadata": {
    "ExecuteTime": {
     "end_time": "2021-01-01T09:21:07.766982Z",
     "start_time": "2021-01-01T09:21:00.433923Z"
    }
   },
   "outputs": [
    {
     "data": {
      "text/plain": [
       "'Table open_2017_men has been populated'"
      ]
     },
     "execution_count": 35,
     "metadata": {},
     "output_type": "execute_result"
    }
   ],
   "source": [
    "populate_table('open_2017_men',path+'open_2017_men.csv',conn)"
   ]
  },
  {
   "cell_type": "code",
   "execution_count": 38,
   "metadata": {
    "ExecuteTime": {
     "end_time": "2021-01-01T09:23:39.793460Z",
     "start_time": "2021-01-01T09:23:39.763292Z"
    }
   },
   "outputs": [
    {
     "data": {
      "text/plain": [
       "'Table open_2017_women has been created'"
      ]
     },
     "execution_count": 38,
     "metadata": {},
     "output_type": "execute_result"
    }
   ],
   "source": [
    "create_table_2017(\"open_2017_women\",conn)"
   ]
  },
  {
   "cell_type": "code",
   "execution_count": 43,
   "metadata": {
    "ExecuteTime": {
     "end_time": "2021-01-01T09:25:06.539556Z",
     "start_time": "2021-01-01T09:25:00.604362Z"
    }
   },
   "outputs": [
    {
     "data": {
      "text/plain": [
       "'Table open_2017_women has been populated'"
      ]
     },
     "execution_count": 43,
     "metadata": {},
     "output_type": "execute_result"
    }
   ],
   "source": [
    "populate_table('open_2017_women',path+'open_2017_women.csv',conn)"
   ]
  },
  {
   "cell_type": "markdown",
   "metadata": {},
   "source": [
    "Close the connection:"
   ]
  },
  {
   "cell_type": "code",
   "execution_count": 44,
   "metadata": {
    "ExecuteTime": {
     "end_time": "2021-01-01T09:25:29.895611Z",
     "start_time": "2021-01-01T09:25:29.888353Z"
    }
   },
   "outputs": [],
   "source": [
    "conn.close()"
   ]
  },
  {
   "cell_type": "markdown",
   "metadata": {},
   "source": [
    "## 2016 Data"
   ]
  },
  {
   "cell_type": "markdown",
   "metadata": {},
   "source": [
    "This notebook is a work in progress. I will be creating and populating a Postgres table for the 2016 data next!"
   ]
  }
 ],
 "metadata": {
  "kernelspec": {
   "display_name": "Python 3",
   "language": "python",
   "name": "python3"
  },
  "language_info": {
   "codemirror_mode": {
    "name": "ipython",
    "version": 3
   },
   "file_extension": ".py",
   "mimetype": "text/x-python",
   "name": "python",
   "nbconvert_exporter": "python",
   "pygments_lexer": "ipython3",
   "version": "3.7.7"
  }
 },
 "nbformat": 4,
 "nbformat_minor": 4
}
